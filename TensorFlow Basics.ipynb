{
 "cells": [
  {
   "cell_type": "markdown",
   "metadata": {},
   "source": [
    "### Load Modules"
   ]
  },
  {
   "cell_type": "code",
   "execution_count": 1,
   "metadata": {
    "collapsed": true
   },
   "outputs": [],
   "source": [
    "import tensorflow as tf\n",
    "import numpy as np"
   ]
  },
  {
   "cell_type": "markdown",
   "metadata": {},
   "source": [
    "### Python Operation"
   ]
  },
  {
   "cell_type": "code",
   "execution_count": 8,
   "metadata": {
    "collapsed": false
   },
   "outputs": [
    {
     "name": "stdout",
     "output_type": "stream",
     "text": [
      "15\n",
      "[20  6]\n"
     ]
    }
   ],
   "source": [
    "# Add Example\n",
    "a = 5\n",
    "b = 10\n",
    "print(a + b)\n",
    "\n",
    "# Multiply Example\n",
    "c = np.array([5,3])\n",
    "d = np.array([4,2])\n",
    "print(np.multiply(c, d))"
   ]
  },
  {
   "cell_type": "markdown",
   "metadata": {},
   "source": [
    "### Basic Operations in TensorFlow"
   ]
  },
  {
   "cell_type": "code",
   "execution_count": 13,
   "metadata": {
    "collapsed": false
   },
   "outputs": [
    {
     "name": "stdout",
     "output_type": "stream",
     "text": [
      "Tensor(\"Mul_5:0\", shape=(), dtype=int32)\n",
      "30\n",
      "30\n"
     ]
    }
   ],
   "source": [
    "# TensorFlow Constant\n",
    "a = tf.constant(5, name='a')\n",
    "b = tf.constant(6, name='b')\n",
    "\n",
    "# Tensor Output\n",
    "print tf.mul(a, b)\n",
    "\n",
    "# Tensor Evaluation using TF Session\n",
    "print tf.Session().run(tf.mul(a, b))\n",
    "print tf.Session().run(a * b)"
   ]
  },
  {
   "cell_type": "markdown",
   "metadata": {},
   "source": [
    "### Placeholder Example"
   ]
  },
  {
   "cell_type": "code",
   "execution_count": 4,
   "metadata": {
    "collapsed": false
   },
   "outputs": [
    {
     "name": "stdout",
     "output_type": "stream",
     "text": [
      "5.0\n",
      "15.0\n"
     ]
    }
   ],
   "source": [
    "a = tf.placeholder('float')\n",
    "b = tf.placeholder('float')\n",
    "\n",
    "add = tf.add(a, b)\n",
    "mul = tf.mul(a, b)\n",
    "\n",
    "sess = tf.Session()\n",
    "\n",
    "print(sess.run(add, feed_dict={a:6, b:-1}))\n",
    "print(sess.run(mul, feed_dict={a:3, b:5}))"
   ]
  },
  {
   "cell_type": "markdown",
   "metadata": {},
   "source": [
    "### Interative Session Example"
   ]
  },
  {
   "cell_type": "code",
   "execution_count": 1,
   "metadata": {
    "collapsed": false
   },
   "outputs": [
    {
     "name": "stdout",
     "output_type": "stream",
     "text": [
      "[-2. -1.]\n"
     ]
    }
   ],
   "source": [
    "# Enter an interactive TensorFlow Session.\n",
    "sess = tf.InteractiveSession()\n",
    "\n",
    "x = tf.Variable([1.0, 2.0])\n",
    "a = tf.constant([3.0, 3.0])\n",
    "\n",
    "# Initialize 'x' using the run() method of its initializer op.\n",
    "x.initializer.run()\n",
    "\n",
    "# Add an op to subtract 'a' from 'x'.  Run it and print the result\n",
    "sub = tf.sub(x, a)\n",
    "print(sub.eval())\n",
    "# ==> [-2. -1.]\n",
    "\n",
    "# Close the Session when we're done.\n",
    "sess.close()"
   ]
  },
  {
   "cell_type": "markdown",
   "metadata": {},
   "source": [
    "### Linear Regression Example"
   ]
  },
  {
   "cell_type": "code",
   "execution_count": 57,
   "metadata": {
    "collapsed": false
   },
   "outputs": [
    {
     "name": "stdout",
     "output_type": "stream",
     "text": [
      "0 [ 0.35163882] [ 0.1467178]\n",
      "10 [ 0.2265446] [ 0.17502566]\n",
      "20 [ 0.16875644] [ 0.20816077]\n",
      "30 [ 0.13735799] [ 0.22616449]\n",
      "40 [ 0.12029802] [ 0.2359466]\n",
      "50 [ 0.11102869] [ 0.24126159]\n",
      "60 [ 0.10599232] [ 0.24414942]\n",
      "70 [ 0.10325585] [ 0.24571849]\n",
      "80 [ 0.10176903] [ 0.24657103]\n",
      "90 [ 0.10096119] [ 0.24703425]\n",
      "0 [ 0.76582843] [-0.2071082]\n",
      "10 [ 0.47886443] [ 0.03034573]\n",
      "20 [ 0.30585164] [ 0.12955104]\n",
      "30 [ 0.21184708] [ 0.1834528]\n",
      "40 [ 0.16077082] [ 0.21273969]\n",
      "50 [ 0.1330191] [ 0.22865239]\n",
      "60 [ 0.11794055] [ 0.23729835]\n",
      "70 [ 0.10974779] [ 0.24199605]\n",
      "80 [ 0.10529634] [ 0.24454848]\n",
      "90 [ 0.10287771] [ 0.24593532]\n"
     ]
    }
   ],
   "source": [
    "num_step = 100\n",
    "num_sample = 100\n",
    "data_values = []\n",
    "\n",
    "import tensorflow as tf\n",
    "import numpy as np\n",
    "\n",
    "# Create 100 phony x, y data points in NumPy, y = x * 0.1 + 0.3\n",
    "x_data = np.random.rand(num_sample).astype(np.float32)\n",
    "y_data = x_data * 0.1 + 0.3 + np.random.normal(0.0, 0.05)\n",
    "\n",
    "# Try to find values for W and b that compute y_data = W * x_data + b\n",
    "# (We know that W should be 0.1 and b 0.3, but TensorFlow will\n",
    "# figure that out for us.)\n",
    "W1 = tf.Variable(tf.random_uniform([1], -1.0, 1.0))\n",
    "b1 = tf.Variable(tf.zeros([1]))\n",
    "y1 = W1 * x_data + b1\n",
    "\n",
    "W2 = tf.Variable(tf.random_uniform([1], -1.0, 1.0))\n",
    "b2 = tf.Variable(tf.zeros([1]))\n",
    "y2 = W2 * x_data + b2\n",
    "\n",
    "# Minimize the mean squared errors.\n",
    "loss1 = tf.reduce_mean(tf.square(y1 - y_data))\n",
    "loss2 = tf.reduce_mean(tf.square(y2 - y_data))\n",
    "\n",
    "optimizer = tf.train.GradientDescentOptimizer(0.5)\n",
    "train1 = optimizer.minimize(loss1)\n",
    "train2 = optimizer.minimize(loss2)\n",
    "\n",
    "# Before starting, initialize the variables.  We will 'run' this first.\n",
    "init = tf.global_variables_initializer()\n",
    "\n",
    "# Launch the graph.\n",
    "sess = tf.Session()\n",
    "sess.run(init)\n",
    "\n",
    "# Fit the line.\n",
    "for step in range(num_step):\n",
    "    sess.run(train1)\n",
    "    if step % 10 == 0:\n",
    "        print(step, sess.run(W1), sess.run(b1))\n",
    "\n",
    "step = 0\n",
    "while step < num_step:\n",
    "    sess.run(train2)\n",
    "    if step % 10 == 0:\n",
    "        print(step, sess.run(W2), sess.run(b2))        \n",
    "    step += 1"
   ]
  },
  {
   "cell_type": "markdown",
   "metadata": {},
   "source": [
    "### MNIST Dataset"
   ]
  },
  {
   "cell_type": "markdown",
   "metadata": {},
   "source": [
    "[MNIST Description](http://yann.lecun.com/exdb/mnist/)\n",
    "\n",
    "[MNIST Visualization](http://colah.github.io/posts/2014-10-Visualizing-MNIST/)\n",
    "\n",
    "[MNIST Performance](http://rodrigob.github.io/are_we_there_yet/build/classification_datasets_results.html)"
   ]
  }
 ],
 "metadata": {
  "anaconda-cloud": {},
  "kernelspec": {
   "display_name": "Python [conda root]",
   "language": "python",
   "name": "conda-root-py"
  },
  "language_info": {
   "codemirror_mode": {
    "name": "ipython",
    "version": 3
   },
   "file_extension": ".py",
   "mimetype": "text/x-python",
   "name": "python",
   "nbconvert_exporter": "python",
   "pygments_lexer": "ipython3",
   "version": "3.5.2"
  }
 },
 "nbformat": 4,
 "nbformat_minor": 1
}
