{
 "cells": [
  {
   "cell_type": "markdown",
   "metadata": {},
   "source": [
    "### Learning Curve and Learning Rate Decay"
   ]
  },
  {
   "cell_type": "code",
   "execution_count": null,
   "metadata": {
    "collapsed": true
   },
   "outputs": [],
   "source": [
    "import tensorflow as tf\n",
    "import numpy as np\n",
    "\n",
    "# x and y are placeholders for our training data\n",
    "x = tf.placeholder(\"float\")\n",
    "y = tf.placeholder(\"float\")\n",
    "# w is the variable storing our values. It is initialised with starting \"guesses\"\n",
    "# w[0] is the \"a\" in our equation, w[1] is the \"b\"\n",
    "w = tf.Variable([1.0, 2.0], name=\"w\")\n",
    "# Our model of y = a*x + b\n",
    "y_model = tf.mul(x, w[0]) + w[1]\n",
    "\n",
    "# Our error is defined as the square of the differences\n",
    "error = tf.square(y - y_model)\n",
    "# The Gradient Descent Optimizer does the heavy lifting\n",
    "global_step = tf.Variable(0, trainable=False)\n",
    "init_learning_rate = 0.02\n",
    "decay_learning_rate = tf.train.exponential_decay(init_learning_rate, global_step, 10, 0.5, staircase=True)\n",
    "train_op = tf.train.GradientDescentOptimizer(init_learning_rate).minimize(error)\n",
    "#train_op = tf.train.GradientDescentOptimizer(decay_learning_rate).minimize(error, global_step=global_step)\n",
    "\n",
    "# Normal TensorFlow - initialize values, create a session and run the model\n",
    "model = tf.global_variables_initializer()\n",
    "\n",
    "errors = []\n",
    "with tf.Session() as session:\n",
    "    session.run(model)\n",
    "    for i in range(100):\n",
    "        x_train = tf.random_normal((1,), mean=5, stddev=2.0)\n",
    "        y_train = x_train * 2 + 6\n",
    "        x_value, y_value = session.run([x_train, y_train])\n",
    "        _, error_value = session.run([train_op, error], feed_dict={x: x_value, y: y_value})\n",
    "        print(\"Iteration :{a:3d},    Error : {b:5.5f}\".format(a=i, b=error_value[0]))\n",
    "        errors.append(error_value)\n",
    "    w_value = session.run(w)\n",
    "    print(\"Predicted model: {a:.3f}x + {b:.3f}\".format(a=w_value[0], b=w_value[1]))\n",
    "\n",
    "import matplotlib.pyplot as plt\n",
    "plt.plot([np.mean(errors[i-20:i]) for i in range(len(errors))])\n",
    "plt.show()"
   ]
  },
  {
   "cell_type": "markdown",
   "metadata": {
    "collapsed": true
   },
   "source": [
    "[TensorFlow Optimizers](https://www.tensorflow.org/api_docs/python/train/optimizers)\n",
    "\n",
    "[TensorFlow Regularizers](https://www.tensorflow.org/api_docs/python/contrib.layers/regularizers)"
   ]
  }
 ],
 "metadata": {
  "anaconda-cloud": {},
  "kernelspec": {
   "display_name": "Python [conda root]",
   "language": "python",
   "name": "conda-root-py"
  },
  "language_info": {
   "codemirror_mode": {
    "name": "ipython",
    "version": 3
   },
   "file_extension": ".py",
   "mimetype": "text/x-python",
   "name": "python",
   "nbconvert_exporter": "python",
   "pygments_lexer": "ipython3",
   "version": "3.5.2"
  }
 },
 "nbformat": 4,
 "nbformat_minor": 1
}
